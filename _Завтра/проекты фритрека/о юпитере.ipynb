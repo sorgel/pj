{
 "cells": [
  {
   "cell_type": "markdown",
   "metadata": {
    "colab_type": "text",
    "deletable": false,
    "id": "QWh8pkqyAO_p",
    "tags": [
     "55236c03-64a5-4f38-92fc-dc6c523363e7"
    ]
   },
   "source": [
    "## Проекты в Jupyter"
   ]
  },
  {
   "cell_type": "markdown",
   "metadata": {
    "colab_type": "text",
    "deletable": false,
    "id": "TFzUs-AVhI_F"
   },
   "source": [
    "Проекты в Jupyter оформляются в виде так называемых **тетрадок *Jupyter Notebook***. Тетрадка — это смесь текста и кода на Python. Пример такой тетрадки вы сейчас читаете.\n",
    "\n",
    "Пора приступать к выполнению кода. Перейдите в ячейку под этим текстом и нажмите **Shift+Enter**, либо кликните по кнопке **( ▶| Run )** сверху."
   ]
  },
  {
   "cell_type": "code",
   "execution_count": 7,
   "metadata": {
    "colab": {
     "base_uri": "https://localhost:8080/",
     "height": 51
    },
    "colab_type": "code",
    "deletable": false,
    "id": "b1s4BP1jAZ09",
    "outputId": "3750177d-1736-4a19-eedc-fc1d572af2b1"
   },
   "outputs": [],
   "source": [
    "print(\"Я - аналитик данных! 😎\")\n",
    "a = 2\n",
    "b = 3\n",
    "sum = a + b\n",
    "print(\"Я умею складывать числа, a + b =\", sum)"
   ]
  },
  {
   "cell_type": "markdown",
   "metadata": {
    "colab_type": "text",
    "deletable": false,
    "id": "uSZfGOVWnTOb"
   },
   "source": [
    "Ячейки могут содержать любой код на языке Python. Всё практически как в уже знакомом вам тренажёре."
   ]
  },
  {
   "cell_type": "markdown",
   "metadata": {
    "colab_type": "text",
    "deletable": false,
    "id": "UzudmkNHioX9",
    "tags": [
     "a5af25ed-ec68-4904-9263-e3369dfdb0e3"
    ]
   },
   "source": [
    "## Выполнение кода в ячейках Jupyter Notebook\n"
   ]
  },
  {
   "cell_type": "markdown",
   "metadata": {
    "colab_type": "text",
    "deletable": false,
    "id": "gd-aDGxvoPMU"
   },
   "source": [
    "Результат выполнения кода отображается прямо под ним. Не нужно писать вызов `print()` — значение последнего вычисленного выражения отобразится и так. Убедитесь в этом, исполнив следующий код:"
   ]
  },
  {
   "cell_type": "code",
   "execution_count": 8,
   "metadata": {
    "colab": {
     "base_uri": "https://localhost:8080/",
     "height": 34
    },
    "colab_type": "code",
    "deletable": false,
    "id": "jmynmlUykb7B",
    "outputId": "7067f884-bd29-493b-8751-a1ff0ad72a5d"
   },
   "outputs": [],
   "source": [
    "def SumSquare(x, y):\n",
    "  return x*x + y*y;\n",
    "\n",
    "SumSquare(a, b)\n"
   ]
  },
  {
   "cell_type": "markdown",
   "metadata": {
    "colab_type": "text",
    "deletable": false,
    "id": "YeakwhJJsxa0"
   },
   "source": [
    "Получилось 13. Это потому, что значения переменных a и b сохранились после выполнения кода предыдущих ячеек.\n",
    "\n",
    "Код в каждой ячейке — часть общей программы. Так как вы управляете запуском ячеек вручную, можете выполнять их в любом порядке, даже редактируя и перезапуская. Таким образом  вы влияете на значения переменных, которые сохраняются от ячейки к ячейке.\n",
    "\n",
    "Рекомендуем запускать код по порядку, чтобы результат выполнения был предсказуем. Если выбрать в меню **( Cell / Run All )**, все ячейки будут выполнены по очереди от первой до текущей.\n",
    "\n",
    "Значения переменных, накопленные после выполнения кода, можно сбросить. Для этого выберите **( Kernel / Restart )** или кликните **( ⟳ Restart )** на панели сверху.нy\n",
    "\n",
    "**Упражнение.** Заполните пропуск в следующей ячейке так, чтобы после выполнения кода значение переменной `c` стало равным `8` . Проверьте свое решение, выполнив код ячейки."
   ]
  },
  {
   "cell_type": "code",
   "execution_count": 9,
   "metadata": {
    "colab": {
     "base_uri": "https://localhost:8080/",
     "height": 34
    },
    "colab_type": "code",
    "deletable": false,
    "id": "A6d4NvHn2c3f",
    "outputId": "47388131-09ff-48ab-cfcd-51b5e3ded4ce"
   },
   "outputs": [],
   "source": [
    "z = 2 # заполните пропуск здесь\n",
    "c = SumSquare(z, a)\n",
    "c"
   ]
  },
  {
   "cell_type": "markdown",
   "metadata": {
    "colab_type": "text",
    "deletable": false,
    "id": "T4NnlzPSSEzD",
    "tags": [
     "18cad61c-fdcf-404a-92e0-63ef7814ea3d"
    ]
   },
   "source": [
    "##  Форматирование таблиц и текста"
   ]
  },
  {
   "cell_type": "markdown",
   "metadata": {
    "colab_type": "text",
    "deletable": false,
    "id": "X4I2mgFnpDgb"
   },
   "source": [
    "Jupyter позволяет форматировать текст красиво. Например, таблица из первой темы будет выглядеть так:\n",
    "\n",
    "| Язык                     | Доля сайтов в топ 10 млн. | Носители, млн. | Говорящие, млн. |\n",
    "|--------------------------|-----------------|--------------------|-------------|\n",
    "| Английский               | 53.90%          | 378.2              | 1121        |\n",
    "| Русский                  | 6.10%           | 153.9              | 264.3       |\n",
    "| Немецкий                 | 6.00%           | 76                 | 132         |\n",
    "| Испанский                | 4.90%           | 442.3              | 512.9       |\n",
    "| Французский              | 4.00%           | 76.7               | 284.9       |\n",
    "| Японский                 | 3.40%           | 128.2              | 128.3       |\n",
    "| Португальский            | 2.90%           | 222.7              | 236.5       |\n",
    "| Итальянский              | 2.40%           | 64.8               | 67.8        |\n",
    "| Персидский               | 2.00%           | 60                 | 110         |\n",
    "| Польский                 | 1.80%           | 39.6               | 40.3        |\n",
    "| Китайский | 1.70%           | 908.7              | 1.107       |\n",
    "| Датский                  | 1.20%           | 22                 | 28          |\n",
    "| Турецкий                 | 1.20%           | 78.5               | 78.9        |\n",
    "| Чешский                  | 1.00%           | 10.4               | 10.6        |\n",
    "\n",
    "А вот как выглядят в Jupyter Notebook таблицы из файлов *.csv*, загруженные в библиотеку Pandas:"
   ]
  },
  {
   "cell_type": "code",
   "execution_count": 3,
   "metadata": {
    "colab": {
     "base_uri": "https://localhost:8080/",
     "height": 390
    },
    "colab_type": "code",
    "deletable": false,
    "id": "l06wg-rdZalt",
    "outputId": "4fa04f50-d392-4964-b46b-aee749b4acc8"
   },
   "outputs": [],
   "source": [
    "import pandas as pd\n",
    "df = pd.read_csv('/datasets/drive-data.csv')\n",
    "df"
   ]
  },
  {
   "cell_type": "markdown",
   "metadata": {
    "colab_type": "text",
    "deletable": false,
    "id": "TNCZkFTymIsU"
   },
   "source": [
    "Здесь мы специально не стали вызывать функцию `print(df)`. Без неё вывод таблицы получается красивее.\n",
    "\n",
    "Jupyter Notebook умеет показывать и очень большие таблицы. Посмотрите, что получается:"
   ]
  },
  {
   "cell_type": "code",
   "execution_count": 4,
   "metadata": {
    "colab": {},
    "colab_type": "code",
    "deletable": false,
    "id": "7A31h5LvtktL"
   },
   "outputs": [],
   "source": [
    "big_df = pd.read_csv('/datasets/music-data-2.csv')\n",
    "big_df"
   ]
  },
  {
   "cell_type": "markdown",
   "metadata": {
    "colab_type": "text",
    "deletable": false,
    "id": "l8o-ofLp2-St"
   },
   "source": [
    "Для оформления текста в Jupyter Notebook используется язык разметки [Markdown](https://ru.wikipedia.org/wiki/Markdown). К примеру, перечислить колонки таблицы можно так:\n",
    "- `Модель`\n",
    "- `Категория`\n",
    "- `Количество`\n",
    "- `Стоимость за минуту`"
   ]
  },
  {
   "cell_type": "markdown",
   "metadata": {
    "colab_type": "text",
    "deletable": false,
    "id": "gosx5TBQhpdB",
    "tags": [
     "4b32cb40-262d-449a-b610-655148ec7972"
    ]
   },
   "source": [
    "## Jupyter в работе аналитика"
   ]
  },
  {
   "cell_type": "markdown",
   "metadata": {
    "colab_type": "text",
    "deletable": false,
    "id": "IYhwEdxjp4G6"
   },
   "source": [
    "Завершив проект, вы сможете сохранить тетрадку в файл формата *.ipynb*. Затем открыть его на другом компьютере в Jupyter, поделиться с коллегами, поместить в портфолио. Чтобы сохранить тетрадку, нажмите **( File / Download as... )**.\n",
    "\n",
    "Jupyter так популярен, потому что в нём удобно просматривать код и результаты его исполнения, а также демонстрировать работу коллегам."
   ]
  }
 ],
 "metadata": {
  "kernelspec": {
   "display_name": "Python 3",
   "language": "python",
   "name": "python3"
  },
  "language_info": {
   "codemirror_mode": {
    "name": "ipython",
    "version": 3
   },
   "file_extension": ".py",
   "mimetype": "text/x-python",
   "name": "python",
   "nbconvert_exporter": "python",
   "pygments_lexer": "ipython3",
   "version": "3.7.6"
  }
 },
 "nbformat": 4,
 "nbformat_minor": 1
}